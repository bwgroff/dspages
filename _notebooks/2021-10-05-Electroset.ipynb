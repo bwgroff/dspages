{
 "cells": [
  {
   "cell_type": "markdown",
   "id": "0ab438bf-22d8-48af-b03f-c896dad2e24d",
   "metadata": {},
   "source": [
    "# \"Super Superset\"\n",
    "> \"Running Superset in Electron to give it superpowers.\""
   ]
  },
  {
   "cell_type": "markdown",
   "id": "e745d9d6-7b41-4150-a441-a49d5217f14e",
   "metadata": {},
   "source": [
    "Superset is rad but it frequently runs into the limitations of your browser, especially the limit on local storage (5mb!). \"Well\", I thought to myself, \"we have all these *universal frameworks* that are basically standalone browsers for web apps... can I get around these problems?\""
   ]
  },
  {
   "cell_type": "markdown",
   "id": "95f9cba7-7fbe-4685-99b7-8476d0e16986",
   "metadata": {},
   "source": [
    "Yes I can! You can too! Just \n",
    "\n",
    "1. Follow the [Electron quick start](https://www.electronjs.org/docs/latest/tutorial/quick-start) to get everything installed and \n",
    "2. Use the code snippet below to create an app just for Superset.\n",
    "\n",
    "Electron is basically a complete browser with some extra node goodies if you're into that sort of thing. Getting a locally-hosted website embedded was easy and now I have a nice frontend for Superset running in Electron. I regularly see `LocalStorage` warnings like \"you're already using 19,581 kb out of 5,000!\". Yeah, that's what's up."
   ]
  },
  {
   "cell_type": "markdown",
   "id": "3ec56a3b-6a56-4cb4-ada4-44f9a9ebc915",
   "metadata": {},
   "source": [
    "Anyway here's the code to drop into `index.js`"
   ]
  },
  {
   "cell_type": "markdown",
   "id": "990feb6e-7e9c-4f38-a565-bb40052a7b8a",
   "metadata": {},
   "source": [
    "```js\n",
    "const { app, BrowserWindow } = require('electron')\n",
    "\n",
    "function createWindow () {\n",
    "  const win = new BrowserWindow({\n",
    "    width: 800,\n",
    "    height: 600\n",
    "  })\n",
    "\n",
    "  win.loadURL('http://127.0.0.1:8088/superset/welcome')\n",
    "}\n",
    "app.on('certificate-error', function(event, webContents, url, error,\n",
    "  certificate, callback) {\n",
    "      event.preventDefault();\n",
    "      callback(true);\n",
    "});\n",
    "\n",
    "\n",
    "app.whenReady().then(() => {\n",
    "  createWindow()\n",
    "\n",
    "  app.on('activate', function () {\n",
    "    if (BrowserWindow.getAllWindows().length === 0) createWindow()\n",
    "  })\n",
    "})\n",
    "```"
   ]
  },
  {
   "cell_type": "markdown",
   "id": "a4dd3b09-472d-49cc-a097-1364c15dd607",
   "metadata": {},
   "source": [
    "I tried to find a configuration file somewhere that would let me eliminate the warnings but I couldn't. Alas."
   ]
  }
 ],
 "metadata": {
  "kernelspec": {
   "display_name": "Python 3",
   "language": "python",
   "name": "python3"
  },
  "language_info": {
   "codemirror_mode": {
    "name": "ipython",
    "version": 3
   },
   "file_extension": ".py",
   "mimetype": "text/x-python",
   "name": "python",
   "nbconvert_exporter": "python",
   "pygments_lexer": "ipython3",
   "version": "3.8.5"
  }
 },
 "nbformat": 4,
 "nbformat_minor": 5
}
