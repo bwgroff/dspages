{
 "cells": [
  {
   "cell_type": "markdown",
   "metadata": {},
   "source": [
    "# Item Response\n",
    "- categories: [Julia, Turing, ItemResponse]"
   ]
  },
  {
   "cell_type": "code",
   "execution_count": 1,
   "metadata": {},
   "outputs": [],
   "source": [
    "#collapse\n",
    "using Turing\n",
    "using Bijectors\n",
    "using Gadfly\n",
    "using DataFrames, DataFramesMeta\n",
    "Gadfly.set_default_plot_size(900px, 300px)"
   ]
  },
  {
   "cell_type": "markdown",
   "metadata": {},
   "source": [
    "Item response models are used to simultaneously make inferences about two interacting populations. Commonly, a population of test questions and a population of test takers (students) with the result (success/failure) of each student on each question they've seen. This is an interesting problem in that even in the basic case:\n",
    "\n",
    "- students have different levels of competence\n",
    "- questions have different levels of difficulty\n",
    "- not every student sees every question\n",
    "- not every question needs to be seen by the same number of students\n",
    "- we should be able to make relative inferences between students/questions that have no overlapping questions/students\n",
    "- the data is nonetheless fairly simple: `[correct (Boolean), student_id (categorical), question_id (categorical]`\n",
    "\n",
    "Item Response is very similar to collaborative filtering, albeit typically a different approach and different intent. Collaborative filtering is often done at scale using [alternating least squares (ALS) e.g. in Spark](https://spark.apache.org/docs/2.2.0/ml-collaborative-filtering.html). \n",
    "\n",
    "In both cases, the problem can be case as "
   ]
  },
  {
   "cell_type": "markdown",
   "metadata": {},
   "source": [
    "[Stan users guide - IRT](https://mc-stan.org/docs/2_18/stan-users-guide/item-response-models-section.html)"
   ]
  },
  {
   "cell_type": "code",
   "execution_count": null,
   "metadata": {},
   "outputs": [],
   "source": []
  }
 ],
 "metadata": {
  "kernelspec": {
   "display_name": "Julia 1.5.3",
   "language": "julia",
   "name": "julia-1.5"
  },
  "language_info": {
   "file_extension": ".jl",
   "mimetype": "application/julia",
   "name": "julia",
   "version": "1.5.3"
  }
 },
 "nbformat": 4,
 "nbformat_minor": 4
}
