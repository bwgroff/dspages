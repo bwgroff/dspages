{
 "cells": [
  {
   "cell_type": "markdown",
   "metadata": {},
   "source": [
    "# Customer LTV: Buy 'til You Die\n",
    "- categories: [Julia, Turing, Churn, Survival, LTV]"
   ]
  },
  {
   "cell_type": "code",
   "execution_count": 1,
   "metadata": {},
   "outputs": [],
   "source": [
    "#collapse\n",
    "#collapse\n",
    "using Turing\n",
    "using Gadfly\n",
    "using DataFrames, DataFramesMeta\n",
    "Gadfly.set_default_plot_size(900px, 300px)"
   ]
  },
  {
   "cell_type": "markdown",
   "metadata": {},
   "source": [
    "Customer Lifetime Value (LTV or CLTV) is the total dollar value a consumer will spend at a business throughout their life. The concept is as important as the definition is straightforward - businesses very often want to know which consumers are their whales and which are eating up their marketing or infrastructure budgets with little or no value returned. This is pretty tricky and there are a few approaches you can take:\n",
    "\n",
    "**Naive calculation**. The following will give you an average that is delightfully simple but tragically wrong:\n",
    "\n",
    "$$\\mathrm{LTV} = \\frac{1}{|\\mathrm{Customers}|}\\sum_{\\mathrm{orders}} \\mathrm{Order\\ Value}$$\n",
    "\n",
    "Assuming (hmm) that LTV is constant over time, this will converge to the true average LTV value as customers churn (and thus achieve their final lifetime value). New customers will continue to weigh the average down and make it an underestimate. There are some of these sort of equations floating around the tubes.\n",
    "\n",
    "**Wait and see**. Simialr algorithm to the above, the major difference is applying this to only a small cohort from a brief window in time. Just follow along with that group and add up how much they spend. This is simple and will get to the true LTV of that cohort faster but it's still typically too slow to be useful. By the time you know, it's 6-9 months later (depending on the churn characteristics of your product) and your product cycle is in the rearview mirror.\n",
    "\n",
    "**Machine Learning** :tada: . Approaches that are easily found in the literature \n",
    "\n",
    "**Buy 'til You Die**. https://www.zdnet.com/article/nikes-purchase-of-analytics-firm-zodiac-highlights-focus-on-customer-lifetime-value/\n",
    "http://www.brucehardie.com/papers/bgnbd_2004-04-20.pdf\n",
    "https://medium.com/ordergroove-engineering/every-customer-counts-52aa70e4f85\n",
    "\n",
    "**Custom Model**."
   ]
  },
  {
   "cell_type": "markdown",
   "metadata": {},
   "source": [
    "# BtYD\n",
    "\n",
    "$$\n",
    "\\begin{aligned}\n",
    "\\mathrm{churned}_c &\\sim  \\\\\n",
    "(\\mathrm{Future\\ purchases})_c &\\sim \n",
    "    \\begin{cases}\n",
    "    0 & \\mathrm{if\\ churned}_c \\\\\n",
    "    \\mathrm{Poisson}(\\theta_c) & \\mathrm{otherwise}\n",
    "    \\end{cases}\n",
    "\\\\\n",
    "(\\mathrm{Future\\ value})_c &= (\\mathrm{Future\\ purchases})_c * \\mathrm{AOV}_c\n",
    "\\end{aligned}\n",
    "$$"
   ]
  },
  {
   "cell_type": "code",
   "execution_count": null,
   "metadata": {},
   "outputs": [],
   "source": []
  }
 ],
 "metadata": {
  "kernelspec": {
   "display_name": "Julia 1.5.3",
   "language": "julia",
   "name": "julia-1.5"
  },
  "language_info": {
   "file_extension": ".jl",
   "mimetype": "application/julia",
   "name": "julia",
   "version": "1.5.3"
  }
 },
 "nbformat": 4,
 "nbformat_minor": 4
}
